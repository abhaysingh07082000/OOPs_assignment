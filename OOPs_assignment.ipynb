{
 "cells": [
  {
   "cell_type": "markdown",
   "id": "c075c9ff-5a38-4381-96c2-1c18360cd038",
   "metadata": {},
   "source": [
    "Q1. Which function is used to open a file? What are the different modes of opening a file? Explain each mode\n",
    "of file opening."
   ]
  },
  {
   "cell_type": "raw",
   "id": "3ee4410e-ff3f-4d2c-960b-69ae40ece69c",
   "metadata": {},
   "source": [
    "# open() function is used to open a file. This function allows us to specify the mode in which we want to open the file, such as reading,\n",
    "# writing, or appending.\n",
    "\n",
    "#ex-\n",
    "file_object = open('filename', 'mode')\n",
    "mode-in which you want to open the file.\n",
    "\n",
    "1. 'r' - Read Mode-\n",
    "Opens the file for reading only. The file pointer is placed at the beginning of the file.\n",
    "If the file does not exist, a `FileNotFoundError` will be raised.\n",
    "\n",
    "     with open('example.txt', 'r') as file:\n",
    "         content = file.read()\n",
    "         print(content)\n",
    "     file.close()\n",
    "    \n",
    "2. 'w' - Write Mode-\n",
    "Opens the file for writing only. If the file already exists, its content will be truncated (i.e., the file will be cleared).\n",
    "If the file does not exist, a new file will be created.\n",
    "   \n",
    "     with open('example.txt', 'w') as file:\n",
    "         file.write(\"This is a new line of text.\")\n",
    "     file.close()\n",
    "\n",
    "3.'a' - Append Mode-\n",
    "Opens the file for writing only. The file pointer is placed at the end of the file. If the file does not exist, \n",
    "a new file will be created. Data written to the file will be appended to the end of the file, not overwrite it.\n",
    "  \n",
    "     with open('example.txt', 'a') as file:\n",
    "         file.write(\"This line is appended to the file.\")\n",
    "     file.close()\n",
    "\n",
    "4. 'b'- Binary Mode-\n",
    "This mode is used to read or write binary files. It is used in conjunction with other modes.\n",
    "'rb' for reading a binary file or 'wb' for writing a binary file.\n",
    "\n",
    "     with open('example.bin', 'rb') as file:\n",
    "         binary_data = file.read()\n",
    "     file.close()\n",
    "\n",
    "5.'r+' - Read and Write Mode-\n",
    "Opens the file for both reading and writing. The file pointer is placed at the beginning of the file. If the file does not exist, a\n",
    "FileNotFoundError will be raised.\n",
    "   \n",
    "     with open('example.txt', 'r+') as file:\n",
    "         content = file.read()\n",
    "         file.write(\"This is an additional line.\")\n",
    "     file.close()\n",
    "\n",
    "6.'w+' - Write and Read Mode-\n",
    "Opens the file for both writing and reading. The file is created if it does not exist, or truncated if it does. \n",
    "The file pointer is placed at the beginning of the file.\n",
    "\n",
    "     with open('example.txt', 'w+') as file:\n",
    "         file.write(\"New content.\")\n",
    "         file.seek(0)\n",
    "         content = file.read()\n",
    "     file.close()\n",
    "\n",
    "7.'a+' - Append and Read Mode-\n",
    "     with open('example.txt', 'a+') as file:\n",
    "         file.write(\"Another appended line.\")\n",
    "         file.seek(0)\n",
    "         content = file.read()\n",
    "     file.close()"
   ]
  },
  {
   "cell_type": "markdown",
   "id": "630a72fd-5734-4278-9e28-99dbd20001d6",
   "metadata": {},
   "source": [
    "Q2. Why close() function is used? Why is it important to close a file?"
   ]
  },
  {
   "cell_type": "raw",
   "id": "ce3a1ad1-9043-4495-aa4e-7f1c5781497a",
   "metadata": {},
   "source": [
    "There are some reasons due to whcih we have to close the file-\n",
    "\n",
    "1.When we open the file, the operating system allocates resources to manage it. The close() function releases \n",
    "these resources, making them available for other processes or files.\n",
    "\n",
    "2.When writing to a file, data may be buffered it means data may be stored temporarily in memory. The close() function flushes these buffers,\n",
    "ensuring that all data is actually written to the file.\n",
    "\n",
    "3.Closing a file properly helps to prevent file corruption that can occur if the file is left open while modifications are being made.\n",
    "\n",
    "4.An open file is locked by the operating system for exclusive access by the program that opened it. Closing the file releases this lock."
   ]
  },
  {
   "cell_type": "markdown",
   "id": "84590740-2957-4b4a-acaf-ae5f9e9ab9f8",
   "metadata": {},
   "source": [
    "Q3. Write a python program to create a text file. Write ‘I want to become a Data Scientist’ in that file. Then\n",
    "close the file. Open this file and read the content of the file."
   ]
  },
  {
   "cell_type": "code",
   "execution_count": 2,
   "id": "9dd616e3-d7c7-4de0-b10e-55297ae7f965",
   "metadata": {},
   "outputs": [],
   "source": [
    "with open(\"abhay.txt\",'w') as file:\n",
    "    file.write(\"I want to become a Data Scientist\")\n",
    "\n",
    "file.close()"
   ]
  },
  {
   "cell_type": "code",
   "execution_count": 5,
   "id": "23a4dcea-87bb-4b51-bc24-a18ac66e25c6",
   "metadata": {},
   "outputs": [],
   "source": [
    "with open(\"abhay.txt\",'r') as file:\n",
    "    content=file.read()"
   ]
  },
  {
   "cell_type": "code",
   "execution_count": 6,
   "id": "c6c7f7b2-3a45-447c-b21d-4184f352001e",
   "metadata": {},
   "outputs": [
    {
     "data": {
      "text/plain": [
       "'I want to become a Data Scientist'"
      ]
     },
     "execution_count": 6,
     "metadata": {},
     "output_type": "execute_result"
    }
   ],
   "source": [
    "content"
   ]
  },
  {
   "cell_type": "markdown",
   "id": "759fbcbf-91b4-471f-a8c4-f228203ad36a",
   "metadata": {},
   "source": [
    "Q4. Explain the following with python code: read(), readline() and readlines()."
   ]
  },
  {
   "cell_type": "code",
   "execution_count": 7,
   "id": "94f78c6c-b957-430a-87c0-499feeca61fc",
   "metadata": {},
   "outputs": [
    {
     "name": "stdout",
     "output_type": "stream",
     "text": [
      "I want to become a Data ScientistI want to become a Data Scientist\n"
     ]
    }
   ],
   "source": [
    "#read() Method- used to read the whole content of the file at a time \n",
    "with open(\"abhay.txt\",'r') as file:\n",
    "    content=file.read()\n",
    "\n",
    "#readline() Method- used to read the content of the file line by line\n",
    "with open('abhay.txt', 'r') as file:\n",
    "    line = file.readline()  \n",
    "    while line:\n",
    "        print(line, end='')\n",
    "        line = file.readline()\n",
    "\n",
    "#readlines() Method-used to reads all lines from the file and returns them as a list of strings.\n",
    "with open(\"abhay.txt\",'r') as file:\n",
    "    lines=file.readlines()\n",
    "    for line in lines:\n",
    "        print(line) "
   ]
  },
  {
   "cell_type": "markdown",
   "id": "e1fdad32-0b6e-4da9-9e62-ebfc3727b0e5",
   "metadata": {},
   "source": [
    "Q5. Explain why with statement is used with open(). What is the advantage of using with statement and\n",
    "open() together?"
   ]
  },
  {
   "cell_type": "raw",
   "id": "b61b0235-dd17-43cb-88e3-42be34364fdf",
   "metadata": {},
   "source": [
    "There are several advantages to use with statement dealing with the files.\n",
    "1.The with statement ensures that resources are properly managed and cleaned up after their use. When dealing with files, \n",
    "it automatically closes the file once the block of code inside the with statement is executed, even if an error occurs.\n",
    "\n",
    "2.If an exception occurs within the with block, the with statement ensures that the file is still closed properly. This is crucial for\n",
    "avoiding issues like file corruption or resource leaks.\n",
    "\n",
    "3.The with statement simplifies file handling code by eliminating the need for explicit file.close() calls. This leads to more readable \n",
    "and maintainable code.\n",
    "\n",
    "4.The with statement uses context managers to set up and tear down resources automatically. It defines a clear context for resource usage \n",
    "and ensures that necessary cleanup is performed    "
   ]
  },
  {
   "cell_type": "markdown",
   "id": "92127036-a8bb-4a82-937e-c68d22ba07cc",
   "metadata": {},
   "source": [
    "Q6. Explain the write() and writelines() functions. Give a suitable example."
   ]
  },
  {
   "cell_type": "raw",
   "id": "641c452c-7a04-4fc0-bf16-21e10451b4fb",
   "metadata": {},
   "source": [
    "#write() Function\n",
    "it writes the single string to the file\n",
    "\n",
    "#writelines() function-\n",
    "it is used to write the list of the strings and one more thing it doesnot add new line characters we need to include newline characters \n",
    "in the strings if you want to have each string on a new line.\n",
    "\n",
    "#Ex-\n",
    "\n",
    "with open('example_write.txt', 'w') as file:\n",
    "    file.write(\"Hello, World!\\n\")\n",
    "    file.write(\"This is the second line.\")\n",
    "\n",
    "\n",
    "lines = [\"First line\\n\", \"Second line\\n\", \"Third line\\n\"]\n",
    "\n",
    "with open('example_writelines.txt', 'w') as file:\n",
    "    file.writelines(lines)\n"
   ]
  },
  {
   "cell_type": "code",
   "execution_count": null,
   "id": "02cb2815-e316-400d-a866-7eaa816e06ee",
   "metadata": {},
   "outputs": [],
   "source": []
  }
 ],
 "metadata": {
  "kernelspec": {
   "display_name": "Python 3 (ipykernel)",
   "language": "python",
   "name": "python3"
  },
  "language_info": {
   "codemirror_mode": {
    "name": "ipython",
    "version": 3
   },
   "file_extension": ".py",
   "mimetype": "text/x-python",
   "name": "python",
   "nbconvert_exporter": "python",
   "pygments_lexer": "ipython3",
   "version": "3.12.4"
  }
 },
 "nbformat": 4,
 "nbformat_minor": 5
}
